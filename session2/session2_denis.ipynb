{
 "cells": [
  {
   "cell_type": "markdown",
   "metadata": {},
   "source": [
    "Author: **Denis**"
   ]
  },
  {
   "cell_type": "markdown",
   "metadata": {},
   "source": [
    "# 2. Using Python"
   ]
  },
  {
   "cell_type": "markdown",
   "metadata": {},
   "source": [
    "### Goals\n",
    "\n",
    "\n",
    "- learn to solve simple problems in *Python* \n",
    "- learn how to write/read a text file"
   ]
  },
  {
   "cell_type": "markdown",
   "metadata": {},
   "source": [
    "Recommended resource: https://www.tutorialspoint.com/python/"
   ]
  },
  {
   "cell_type": "markdown",
   "metadata": {},
   "source": [
    "### Introduction\n",
    "\n",
    "The 2D euclidian distance between two points $A=(A_0, A_1)$ and $B=(B_0, B_1)$ is calculated as:\n",
    "$$\\left|AB\\right|=\\sqrt{(A_0-B_0)^2+(A_1-B_1)^2}$$\n",
    "\n",
    "The general formula for $n$-dimensional points is\n",
    "$$\\left|AB\\right|=\\sqrt{\\sum_{i=0}^{n-1}(A_i-B_i)^2}$$\n",
    "\n",
    "*Note:* In most programming languages, one starts counting from 0… so dimensions go from $0$ to $n-1$, and not from $1$ to $n$."
   ]
  },
  {
   "cell_type": "markdown",
   "metadata": {},
   "source": [
    "### *TASK 1*\n",
    "\n",
    "Compute and print the euclidean distance between two 2D points $(A_0,B_0)=(0,0)$ and $(A_1,B_1)=(1,1)$.\n",
    "\n",
    "*Hint:* $\\sqrt{a}=a^{\\frac{1}{2}}$"
   ]
  },
  {
   "cell_type": "code",
   "execution_count": 1,
   "metadata": {
    "collapsed": false
   },
   "outputs": [
    {
     "name": "stdout",
     "output_type": "stream",
     "text": [
      "1.4142135623730951\n"
     ]
    }
   ],
   "source": [
    "import math\n",
    "C = math.sqrt((0-1)**2+(0-1)**2)\n",
    "print(C)"
   ]
  },
  {
   "cell_type": "markdown",
   "metadata": {},
   "source": [
    "### *TASK 2*\n",
    "\n",
    "Compute the euclidean distance between two 2D points, print a warning signal if the points have the same coordinates, print the distance otherwise."
   ]
  },
  {
   "cell_type": "code",
   "execution_count": null,
   "metadata": {
    "collapsed": true
   },
   "outputs": [],
   "source": [
    "import math\n",
    "A = [5,0]\n",
    "B = [5,0]\n",
    "if A == B:\n",
    "    print(\"warning, identical coordinates!\")\n",
    "else: \n",
    "    C = math.sqrt((A[0]-B[0])**2+(A[1]-B[1])**2)\n",
    "    print(C)"
   ]
  },
  {
   "cell_type": "markdown",
   "metadata": {},
   "source": [
    "### *TASK 3*\n",
    "\n",
    "Define and call a function computing the euclidean distance between two 2D points.\n",
    "\n",
    "**Advanced:** Save the function in another file called measure.py, import and call it."
   ]
  },
  {
   "cell_type": "code",
   "execution_count": null,
   "metadata": {},
   "outputs": [],
   "source": [
    "import math\n",
    "def Distance_calculator(A1, B1):\n",
    "    if A1 == B1:\n",
    "        print(\"warning, identical coordinates!\")\n",
    "    else: \n",
    "        C = math.sqrt((A1[0]-B1[0])**2+(A1[1]-B1[1])**2)\n",
    "        print(C)\n",
    "z = Distance_calculator([0,1], [2,3])"
   ]
  },
  {
   "cell_type": "markdown",
   "metadata": {},
   "source": [
    "### *TASK 4*\n",
    "\n",
    "Define and call a function computing the euclidean distance between two 2D points. Represent points as lists containing 2 elements (i.e. x and y coordinate)."
   ]
  },
  {
   "cell_type": "code",
   "execution_count": 12,
   "metadata": {},
   "outputs": [
    {
     "name": "stdin",
     "output_type": "stream",
     "text": [
      "Enter point1 coordinates (separeted by ,):  1, 4\n",
      "Enter point2 coordinates (separated by ,):  3,6\n"
     ]
    },
    {
     "name": "stdout",
     "output_type": "stream",
     "text": [
      "2.8284271247461903\n"
     ]
    }
   ],
   "source": [
    "import math\n",
    "def Distance_calculator(A1, B1):\n",
    "    if A1 == B1:\n",
    "        print(\"warning, identical coordinates!\")\n",
    "    else: \n",
    "        C = math.sqrt((A1[0]-B1[0])**2+(A1[1]-B1[1])**2)\n",
    "        print(C)\n",
    "Point1 = [int(x) for x in input (\"Enter point1 coordinates (separeted by ,): \").split(\",\")]\n",
    "Point2 = [int(y) for y in input (\"Enter point2 coordinates (separated by ,): \").split(\",\")]\n",
    "\n",
    "\n",
    "z = Distance_calculator(Point1, Point2)"
   ]
  },
  {
   "cell_type": "markdown",
   "metadata": {},
   "source": [
    "### *TASK 5*\n",
    "\n",
    "Define and call a function computing the euclidean distance between two n-dimensional points. Represent point coordinates as lists, i.e. ``p1=[0,0,…]``, ``p2=[1,1,…]``.\n",
    "\n",
    "*Hint:* you will need a loop!\n",
    "\n",
    "**Advanced:** Make sure that lists have the same lengths."
   ]
  },
  {
   "cell_type": "code",
   "execution_count": 1,
   "metadata": {},
   "outputs": [
    {
     "name": "stdin",
     "output_type": "stream",
     "text": [
      "Enter point1 coordinates (separeted by ,):  1,2,3\n",
      "Enter point2 coordinates (separated by ,):  1,3,4\n"
     ]
    },
    {
     "name": "stdout",
     "output_type": "stream",
     "text": [
      "1.4142135623730951\n"
     ]
    }
   ],
   "source": [
    "import math\n",
    "def ndimcalc(An, Bn):\n",
    "    if len(An) != len(Bn):\n",
    "        print(\"invalid!\")\n",
    "    elif An == Bn:\n",
    "        print(\"warning: identical points\")\n",
    "    else:\n",
    "        D = 0\n",
    "        for g in range(len(An)):\n",
    "            D = math.sqrt(D**2 + (An[g]-Bn[g])**2)\n",
    "        print(D)\n",
    "\n",
    "                              \n",
    "Point3 = [int(x) for x in input (\"Enter point1 coordinates (separeted by ,): \").split(\",\")]\n",
    "Point4 = [int(y) for y in input (\"Enter point2 coordinates (separated by ,): \").split(\",\")]\n",
    "\n",
    "\n",
    "z = ndimcalc(Point3, Point4)"
   ]
  },
  {
   "cell_type": "markdown",
   "metadata": {},
   "source": [
    "### *TASK 6*\n",
    "\n",
    "The function below writes a list of point coordinates ``points=[[A0, A1], [B0, B1], ...]`` to a text file. By default the name of the generated text file is ``coords.txt``. The coordinates are written in the follwoing format:\n",
    "\n",
    "```\n",
    "A0 A1\n",
    "B0 B1\n",
    "C0 C1\n",
    "...\n",
    "```\n",
    "\n",
    "Write a function that reads such a file and returns again the list of point coordinates. Make sure that the point coordinates have the data type ``float``.\n",
    "\n",
    "**Advanced:** Confirm whether all read coordinates are matching the input coordinates by comparing with the values in ``points``. "
   ]
  },
  {
   "cell_type": "code",
   "execution_count": 13,
   "metadata": {},
   "outputs": [],
   "source": [
    "def write_coords(points, filename):\n",
    "    \"\"\"\n",
    "    Writes coordinate from list points=[[A0, A1], [B0, B1], ...] to a text file.\n",
    "    \"\"\"\n",
    "    lines = []\n",
    "    with open(filename, 'w') as file:\n",
    "        for coords in points:\n",
    "            line = ''\n",
    "            for coord in coords:\n",
    "                line += f\"{coord} \"\n",
    "            line = line[:-1] + '\\n'\n",
    "            lines.append(line)\n",
    "        file.writelines(lines)\n",
    "    return None"
   ]
  },
  {
   "cell_type": "code",
   "execution_count": 33,
   "metadata": {},
   "outputs": [],
   "source": [
    "points1 = [[1.1, 2.1, 5.12],\n",
    "           [3.2, 4.1, 3.75]]\n",
    "z = write_coords(points1, \"coordsdenis.txt\")"
   ]
  },
  {
   "cell_type": "code",
   "execution_count": 2,
   "metadata": {},
   "outputs": [
    {
     "ename": "FileNotFoundError",
     "evalue": "[Errno 2] No such file or directory: 'coordsdenis.txt'",
     "output_type": "error",
     "traceback": [
      "\u001b[0;31m---------------------------------------------------------------------------\u001b[0m",
      "\u001b[0;31mFileNotFoundError\u001b[0m                         Traceback (most recent call last)",
      "\u001b[0;32m<ipython-input-2-ecaf74fc984c>\u001b[0m in \u001b[0;36m<module>\u001b[0;34m()\u001b[0m\n\u001b[1;32m     11\u001b[0m     \u001b[0;32mreturn\u001b[0m\u001b[0;34m(\u001b[0m\u001b[0mrecoveredpoints\u001b[0m\u001b[0;34m)\u001b[0m\u001b[0;34m\u001b[0m\u001b[0m\n\u001b[1;32m     12\u001b[0m \u001b[0;34m\u001b[0m\u001b[0m\n\u001b[0;32m---> 13\u001b[0;31m \u001b[0mzz\u001b[0m \u001b[0;34m=\u001b[0m \u001b[0mread_coords\u001b[0m\u001b[0;34m(\u001b[0m\u001b[0;34m\"coordsdenis.txt\"\u001b[0m\u001b[0;34m)\u001b[0m\u001b[0;34m\u001b[0m\u001b[0m\n\u001b[0m\u001b[1;32m     14\u001b[0m \u001b[0;32mif\u001b[0m \u001b[0mzz\u001b[0m \u001b[0;34m==\u001b[0m \u001b[0mpoints1\u001b[0m\u001b[0;34m:\u001b[0m\u001b[0;34m\u001b[0m\u001b[0m\n\u001b[1;32m     15\u001b[0m     \u001b[0mprint\u001b[0m\u001b[0;34m(\u001b[0m\u001b[0mzz\u001b[0m\u001b[0;34m)\u001b[0m\u001b[0;34m\u001b[0m\u001b[0m\n",
      "\u001b[0;32m<ipython-input-2-ecaf74fc984c>\u001b[0m in \u001b[0;36mread_coords\u001b[0;34m(filename1)\u001b[0m\n\u001b[1;32m      1\u001b[0m \u001b[0;32mdef\u001b[0m \u001b[0mread_coords\u001b[0m\u001b[0;34m(\u001b[0m\u001b[0mfilename1\u001b[0m\u001b[0;34m)\u001b[0m\u001b[0;34m:\u001b[0m\u001b[0;34m\u001b[0m\u001b[0m\n\u001b[1;32m      2\u001b[0m     \u001b[0mrecoveredpoints\u001b[0m \u001b[0;34m=\u001b[0m \u001b[0;34m[\u001b[0m\u001b[0;34m]\u001b[0m\u001b[0;34m\u001b[0m\u001b[0m\n\u001b[0;32m----> 3\u001b[0;31m     \u001b[0;32mwith\u001b[0m \u001b[0mopen\u001b[0m\u001b[0;34m(\u001b[0m\u001b[0mfilename1\u001b[0m\u001b[0;34m,\u001b[0m \u001b[0;34m'r'\u001b[0m\u001b[0;34m)\u001b[0m \u001b[0;32mas\u001b[0m \u001b[0mfile1\u001b[0m\u001b[0;34m:\u001b[0m\u001b[0;34m\u001b[0m\u001b[0m\n\u001b[0m\u001b[1;32m      4\u001b[0m         \u001b[0;32mfor\u001b[0m \u001b[0mline1\u001b[0m \u001b[0;32min\u001b[0m \u001b[0mfile1\u001b[0m\u001b[0;34m:\u001b[0m\u001b[0;34m\u001b[0m\u001b[0m\n\u001b[1;32m      5\u001b[0m             \u001b[0ma\u001b[0m \u001b[0;34m=\u001b[0m \u001b[0mline1\u001b[0m\u001b[0;34m.\u001b[0m\u001b[0mrstrip\u001b[0m\u001b[0;34m(\u001b[0m\u001b[0;34m)\u001b[0m\u001b[0;34m\u001b[0m\u001b[0m\n",
      "\u001b[0;31mFileNotFoundError\u001b[0m: [Errno 2] No such file or directory: 'coordsdenis.txt'"
     ]
    }
   ],
   "source": [
    "def read_coords(filename1):\n",
    "    recoveredpoints = []\n",
    "    with open(filename1, 'r') as file1:\n",
    "        for line1 in file1:\n",
    "            a = line1.rstrip()\n",
    "            b = a.split(\" \")\n",
    "            subset = []\n",
    "            for splitt in b:\n",
    "                subset.append(float(splitt))\n",
    "            recoveredpoints.append(subset)\n",
    "    return(recoveredpoints)\n",
    "\n",
    "zz = read_coords(\"coordsdenis.txt\")\n",
    "if zz == points1:\n",
    "    print(zz)\n",
    "    print(\"all good!\")\n",
    "else:\n",
    "    print(\"FAIL\")"
   ]
  },
  {
   "cell_type": "markdown",
   "metadata": {},
   "source": [
    "### "
   ]
  }
 ],
 "metadata": {
  "kernelspec": {
   "display_name": "Python 3",
   "language": "python",
   "name": "python3"
  },
  "language_info": {
   "codemirror_mode": {
    "name": "ipython",
    "version": 3
   },
   "file_extension": ".py",
   "mimetype": "text/x-python",
   "name": "python",
   "nbconvert_exporter": "python",
   "pygments_lexer": "ipython3",
   "version": "3.7.0"
  }
 },
 "nbformat": 4,
 "nbformat_minor": 2
}
