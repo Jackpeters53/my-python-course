{
 "cells": [
  {
   "cell_type": "markdown",
   "metadata": {},
   "source": [
    "Author: **Nobody**"
   ]
  },
  {
   "cell_type": "markdown",
   "metadata": {},
   "source": [
    "# 2. Using Python"
   ]
  },
  {
   "cell_type": "markdown",
   "metadata": {},
   "source": [
    "### Goals\n",
    "\n",
    "\n",
    "- learn to solve simple problems in *Python* \n",
    "- learn how to write/read a text file"
   ]
  },
  {
   "cell_type": "markdown",
   "metadata": {},
   "source": [
    "Recommended resource: https://www.tutorialspoint.com/python/"
   ]
  },
  {
   "cell_type": "markdown",
   "metadata": {},
   "source": [
    "### Introduction\n",
    "\n",
    "The 2D euclidian distance between two points $A=(A_0, A_1)$ and $B=(B_0, B_1)$ is calculated as:\n",
    "$$\\left|AB\\right|=\\sqrt{(A_0-B_0)^2+(A_1-B_1)^2}$$\n",
    "\n",
    "The general formula for $n$-dimensional points is\n",
    "$$\\left|AB\\right|=\\sqrt{\\sum_{i=0}^{n-1}(A_i-B_i)^2}$$\n",
    "\n",
    "*Note:* In most programming languages, one starts counting from 0… so dimensions go from $0$ to $n-1$, and not from $1$ to $n$."
   ]
  },
  {
   "cell_type": "markdown",
   "metadata": {},
   "source": [
    "### *TASK 1*\n",
    "\n",
    "Compute and print the euclidean distance between two 2D points $(A_0,B_0)=(0,0)$ and $(A_1,B_1)=(1,1)$.\n",
    "\n",
    "*Hint:* $\\sqrt{a}=a^{\\frac{1}{2}}$"
   ]
  },
  {
   "cell_type": "code",
   "execution_count": 15,
   "metadata": {},
   "outputs": [
    {
     "data": {
      "text/plain": [
       "1.4142135623730951"
      ]
     },
     "execution_count": 15,
     "metadata": {},
     "output_type": "execute_result"
    }
   ],
   "source": [
    "# TYPE YOUR SOLUTION HERE\n",
    "import math\n",
    "\n",
    "PointA = [0,0]\n",
    "PointB = [1,1]\n",
    "\n",
    "math.sqrt((PointA[0]-PointB[0])*(PointA[0]-PointB[0])+(PointA[1]-PointB[1])*(PointA[1]-PointB[1]))"
   ]
  },
  {
   "cell_type": "markdown",
   "metadata": {},
   "source": [
    "### *TASK 2*\n",
    "\n",
    "Compute the euclidean distance between two 2D points, print a warning signal if the points have the same coordinates, print the distance otherwise."
   ]
  },
  {
   "cell_type": "code",
   "execution_count": 50,
   "metadata": {},
   "outputs": [
    {
     "name": "stdout",
     "output_type": "stream",
     "text": [
      "same points\n"
     ]
    }
   ],
   "source": [
    "import math\n",
    "def euclideandistance(PointA, PointB):\n",
    "    ed=math.sqrt((PointA[0]-PointB[0])*(PointA[0]-PointB[0])+(PointA[1]-PointB[1])*(PointA[1]-PointB[1]))\n",
    "    if ed==0:\n",
    "        result=\"same points\"\n",
    "    else:\n",
    "        result= ed\n",
    "    return result\n",
    "\n",
    "print(euclideandistance([0,0],[0,0]))\n",
    "\n"
   ]
  },
  {
   "cell_type": "markdown",
   "metadata": {},
   "source": [
    "### *TASK 3*\n",
    "\n",
    "Define and call a function computing the euclidean distance between two 2D points.\n",
    "\n",
    "**Advanced:** Save the function in another file called measure.py, import and call it."
   ]
  },
  {
   "cell_type": "code",
   "execution_count": 49,
   "metadata": {},
   "outputs": [
    {
     "name": "stdout",
     "output_type": "stream",
     "text": [
      "2.23606797749979\n"
     ]
    }
   ],
   "source": [
    "import math\n",
    "def euclideandistance(PointA, PointB):\n",
    "    ed=math.sqrt((PointA[0]-PointB[0])*(PointA[0]-PointB[0])+(PointA[1]-PointB[1])*(PointA[1]-PointB[1]))\n",
    "    if ed==0:\n",
    "        result=\"same points\"\n",
    "    else:\n",
    "        result= ed\n",
    "    return result\n",
    "\n",
    "print(euclideandistance([0,1],[2,2]))"
   ]
  },
  {
   "cell_type": "markdown",
   "metadata": {},
   "source": [
    "### *TASK 4*\n",
    "\n",
    "Define and call a function computing the euclidean distance between two 2D points. Represent points as lists containing 2 elements (i.e. x and y coordinate)."
   ]
  },
  {
   "cell_type": "code",
   "execution_count": 46,
   "metadata": {},
   "outputs": [
    {
     "name": "stdout",
     "output_type": "stream",
     "text": [
      "2.8284271247461903\n"
     ]
    }
   ],
   "source": [
    "import math\n",
    "def euclideandistance(PointA, PointB):\n",
    "    ed=math.sqrt((PointA[0]-PointB[0])*(PointA[0]-PointB[0])+(PointA[1]-PointB[1])*(PointA[1]-PointB[1]))\n",
    "    if ed==0:\n",
    "        result=\"same points\"\n",
    "    else:\n",
    "        result=ed\n",
    "    return result\n",
    "\n",
    "print(euclideandistance([0,0],[2,2]))"
   ]
  },
  {
   "cell_type": "markdown",
   "metadata": {},
   "source": [
    "### *TASK 5*\n",
    "\n",
    "Define and call a function computing the euclidean distance between two n-dimensional points. Represent point coordinates as lists, i.e. ``p1=[0,0,…]``, ``p2=[1,1,…]``.\n",
    "\n",
    "*Hint:* you will need a loop!\n",
    "\n",
    "**Advanced:** Make sure that lists have the same lengths."
   ]
  },
  {
   "cell_type": "code",
   "execution_count": 45,
   "metadata": {},
   "outputs": [
    {
     "name": "stdout",
     "output_type": "stream",
     "text": [
      "two lists should have the same lengths\n",
      "4.358898943540674\n"
     ]
    }
   ],
   "source": [
    "import math\n",
    "\n",
    "def euclideandistance(PointA, PointB):\n",
    "    if len(PointA)==len(PointB):\n",
    "        ed2=0\n",
    "        for i in range(0,len(PointA)):\n",
    "            ed2 +=(PointA[i]-PointB[i])*(PointA[i]-PointB[i])\n",
    "        ed=math.sqrt(ed2)\n",
    "        if ed==0:\n",
    "            result=\"same points\"\n",
    "        else:\n",
    "            result=ed\n",
    "    else: \n",
    "        result=\"two lists should have the same lengths\"\n",
    "    return result\n",
    "\n",
    "print(euclideandistance([0,1,1,1],[1,0,2]))\n",
    "print(euclideandistance([0,1,1,1],[1,0,2,5]))"
   ]
  },
  {
   "cell_type": "markdown",
   "metadata": {},
   "source": [
    "### *TASK 6*\n",
    "\n",
    "The function below writes a list of point coordinates ``points=[[A0, A1], [B0, B1], ...]`` to a text file. By default the name of the generated text file is ``coords.txt``. The coordinates are written in the follwoing format:\n",
    "\n",
    "```\n",
    "A0 A1\n",
    "B0 B1\n",
    "C0 C1\n",
    "...\n",
    "```\n",
    "\n",
    "Write a function that reads such a file and returns again the list of point coordinates. Make sure that the point coordinates have the data type ``float``.\n",
    "\n",
    "**Advanced:** Confirm whether all read coordinates are matching the input coordinates by comparing with the values in ``points``. "
   ]
  },
  {
   "cell_type": "code",
   "execution_count": 54,
   "metadata": {},
   "outputs": [],
   "source": [
    "def write_coords(points, filename='coords.txt'):\n",
    "    \"\"\"\n",
    "    Writes coordinate from list points=[[A0, A1], [B0, B1], ...] to a text file.\n",
    "    \"\"\"\n",
    "    lines = []\n",
    "    with open(filename, 'w') as file:\n",
    "        for coords in points:\n",
    "            line = ''\n",
    "            for coord in coords:\n",
    "                line += f\"{coord} \"\n",
    "            line = line[:-1] + '\\n'\n",
    "            lines.append(line)\n",
    "        file.writelines(lines)\n",
    "    return None"
   ]
  },
  {
   "cell_type": "code",
   "execution_count": 55,
   "metadata": {},
   "outputs": [],
   "source": [
    "points1 = [[1.1, 2.1],\n",
    "           [3.2, 2.1]]"
   ]
  },
  {
   "cell_type": "code",
   "execution_count": 15,
   "metadata": {},
   "outputs": [
    {
     "name": "stdout",
     "output_type": "stream",
     "text": [
      "[[1.1, 2.1], [3.2, 2.1]]\n",
      "all read coordinates match the input coordinatespoints\n"
     ]
    }
   ],
   "source": [
    "# TYPE YOUR SOLUTION HERE\n",
    "def write_coords(points, filename='coords.txt'):\n",
    "    \"\"\"\n",
    "    Writes coordinate from list points=[[A0, A1], [B0, B1], ...] to a text file.\n",
    "    \"\"\"\n",
    "    lines = []\n",
    "    with open(filename, 'w') as file:\n",
    "        for coords in points:\n",
    "            line = ''\n",
    "            for coord in coords:\n",
    "                line += f\"{coord} \"\n",
    "            line = line[:-1] + '\\n'\n",
    "            lines.append(line)\n",
    "        file.writelines(lines)\n",
    "    return None\n",
    "\n",
    "points1 = [[1.1, 2.1],\n",
    "           [3.2, 2.1]]\n",
    "\n",
    "\"\"\"read coords file\"\"\" \n",
    "write_coords(points1)\n",
    "\n",
    "file_handle= open('coords.txt','r')\n",
    "points_temp=file_handle.readlines()\n",
    "file_handle.close()\n",
    " \n",
    "\"\"\"import points\"\"\"\n",
    "points=[]\n",
    "for i in range(0,len(points_temp)):\n",
    "    points.append([float(points_temp[i][0:3]),float(points_temp[i][4:7])])\n",
    "print(points)\n",
    "\n",
    "\"\"\"compare points and points1\"\"\"\n",
    "\n",
    "print(\"all read coordinates %s the input coordinatespoints\" % (\"match\" if points == points1 else \"does not match\"))\n"
   ]
  },
  {
   "cell_type": "code",
   "execution_count": null,
   "metadata": {},
   "outputs": [],
   "source": []
  }
 ],
 "metadata": {
  "kernelspec": {
   "display_name": "Python 3",
   "language": "python",
   "name": "python3"
  },
  "language_info": {
   "codemirror_mode": {
    "name": "ipython",
    "version": 3
   },
   "file_extension": ".py",
   "mimetype": "text/x-python",
   "name": "python",
   "nbconvert_exporter": "python",
   "pygments_lexer": "ipython3",
   "version": "3.7.0"
  }
 },
 "nbformat": 4,
 "nbformat_minor": 2
}
