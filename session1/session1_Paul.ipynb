{
 "cells": [
  {
   "cell_type": "markdown",
   "metadata": {},
   "source": [
    "Author: **Paul F**"
   ]
  },
  {
   "cell_type": "markdown",
   "metadata": {},
   "source": [
    "# 1. First steps with *Python* on *Jupyter*"
   ]
  },
  {
   "cell_type": "markdown",
   "metadata": {},
   "source": [
    "### Goals\n",
    "\n",
    "\n",
    "- learn usage of *Jupyther Lab* notebooks\n",
    "- learn basics of the *Python* syntax"
   ]
  },
  {
   "cell_type": "markdown",
   "metadata": {},
   "source": [
    "Recommended resource: https://www.kaggle.com"
   ]
  },
  {
   "cell_type": "markdown",
   "metadata": {},
   "source": [
    "## 1.1 Usage of ```Jupyter Lab```\n",
    "\n",
    "- Notebooks are made of a sequence of cells\n",
    "- Cells can contain different content such as Python code or Markdown ([Markdown basics](https://www.markdownguide.org/basic-syntax))\n",
    "- You can change the cell type in the toolbar\n",
    "- To execute a cell press \"Shift+Return\"\n",
    "- The result of the last line will be printed below the cell (this behavior can be disabled by adding a semicolon to the end of the last line)\n",
    "- Use the tool bar to add, delete, copy, or insert cells\n",
    "\n",
    "### *1.1 TASK*\n",
    "\n",
    "1. Edit the first line of this notebook and enter your own name.\n",
    "2. Python was named for the British comedy troupe Monty Python, so why not make our first Python program an homage to their famous Spam skit? Just for fun, try reading over the code below and predicting together with your neighbor what it's going to do when run. (If you have no idea, that's fine!)\n",
    "Then execute the cell to see the results of our little program."
   ]
  },
  {
   "cell_type": "code",
   "execution_count": null,
   "metadata": {
    "collapsed": false
   },
   "outputs": [],
   "source": [
    "spam_amount = 0\n",
    "print(spam_amount)\n",
    "\n",
    "# Ordering Spam, egg, Spam, Spam, bacon and Spam (4 more servings of Spam)\n",
    "spam_amount = spam_amount + 4\n",
    "\n",
    "if spam_amount > 0:\n",
    "    print(\"But I don't want ANY spam!\")\n",
    "\n",
    "viking_song = \"Spam \" * spam_amount\n",
    "print(viking_song)"
   ]
  },
  {
   "cell_type": "markdown",
   "metadata": {},
   "source": [
    "## 1.2 Python\n",
    "\n",
    "A variable is something that holds a value that may change. In simplest terms, a variable is just a box that you can put stuff in. You can use variables to store all kinds of stuff. For example the integer number 123456:"
   ]
  },
  {
   "cell_type": "code",
   "execution_count": null,
   "metadata": {
    "collapsed": true
   },
   "outputs": [],
   "source": [
    "variable_0 = 123456"
   ]
  },
  {
   "cell_type": "markdown",
   "metadata": {},
   "source": [
    "#### Data types / objects\n",
    "\n",
    "A selection of frequently used Python data types / objects is given here:\n",
    "\n",
    "|Data type   | Examples                                                 |\n",
    "|------------|----------------------------------------------------------|\n",
    "|```bool```  |either ```True``` or ```False```                          |\n",
    "|```int```   |1, 6, -1, 0, 3244, ...                                    |\n",
    "|```float``` |3.14, -43535.345, 0.0, ...                                |\n",
    "|```str```   |\"Hello world!\", \"nothing\", ...                            |\n",
    "|```tuple``` |(1,2), (1231.32, ```True```, \"Hello world!\", None)...     |\n",
    "|```list```  |[```True```, 1, 3.14, \"Hello!\", [1,2,34]], ...            |\n",
    "|```dict```  |{\"some key\": 1.24233, \"another key\": \"anything\"}, ...     |\n",
    "\n",
    "*Examples:*"
   ]
  },
  {
   "cell_type": "code",
   "execution_count": null,
   "metadata": {
    "collapsed": false
   },
   "outputs": [],
   "source": [
    "# bool \n",
    "a = True\n",
    "b = False"
   ]
  },
  {
   "cell_type": "code",
   "execution_count": null,
   "metadata": {
    "collapsed": true
   },
   "outputs": [],
   "source": [
    "# int\n",
    "c = -2\n",
    "d = 3"
   ]
  },
  {
   "cell_type": "code",
   "execution_count": null,
   "metadata": {
    "collapsed": true
   },
   "outputs": [],
   "source": [
    "# float\n",
    "e = 3.1\n",
    "f = -2342.4324"
   ]
  },
  {
   "cell_type": "code",
   "execution_count": null,
   "metadata": {
    "collapsed": true
   },
   "outputs": [],
   "source": [
    "# str\n",
    "g = \"Hello!\""
   ]
  },
  {
   "cell_type": "code",
   "execution_count": null,
   "metadata": {
    "collapsed": true
   },
   "outputs": [],
   "source": [
    "# list\n",
    "h = [1,5,23,-1]\n",
    "j = [a,b,c,d,e,f,g,h,\"I can put anything into a list! :)\"]\n",
    "k = range(10)"
   ]
  },
  {
   "cell_type": "code",
   "execution_count": null,
   "metadata": {
    "collapsed": true
   },
   "outputs": [],
   "source": [
    "# dict\n",
    "l = {\"key1\": \"any content\", \"key2\": 13, \"key1000\": [1,4,6]}"
   ]
  },
  {
   "cell_type": "markdown",
   "metadata": {},
   "source": [
    "#### Operators\n",
    "\n",
    "- Comparisons: \"==\", \">\", \"<\", \">=\", \"<=\", ...\n",
    "- Arithmetics: \"+\", \"-\", \"*\", \"/\", \"//\", ..."
   ]
  },
  {
   "cell_type": "code",
   "execution_count": null,
   "metadata": {
    "collapsed": false
   },
   "outputs": [],
   "source": [
    "# Comparisons\n",
    "a == b"
   ]
  },
  {
   "cell_type": "code",
   "execution_count": null,
   "metadata": {
    "collapsed": true
   },
   "outputs": [],
   "source": [
    "b == False"
   ]
  },
  {
   "cell_type": "code",
   "execution_count": null,
   "metadata": {
    "collapsed": true
   },
   "outputs": [],
   "source": [
    "c > d"
   ]
  },
  {
   "cell_type": "code",
   "execution_count": null,
   "metadata": {
    "collapsed": true
   },
   "outputs": [],
   "source": [
    "c >= c"
   ]
  },
  {
   "cell_type": "code",
   "execution_count": null,
   "metadata": {
    "collapsed": true
   },
   "outputs": [],
   "source": [
    "# If statements\n",
    "if g == \"Hello!\":\n",
    "    print(\"'g' equals the string 'Hello!'\")\n",
    "else:\n",
    "    print(\"'g' does not equal the string 'Hello!'.\")"
   ]
  },
  {
   "cell_type": "code",
   "execution_count": null,
   "metadata": {
    "collapsed": false
   },
   "outputs": [],
   "source": [
    "# Arithmetics\n",
    "e + f"
   ]
  },
  {
   "cell_type": "code",
   "execution_count": null,
   "metadata": {
    "collapsed": true
   },
   "outputs": [],
   "source": [
    "h + j"
   ]
  },
  {
   "cell_type": "code",
   "execution_count": null,
   "metadata": {},
   "outputs": [],
   "source": [
    "c/d"
   ]
  },
  {
   "cell_type": "code",
   "execution_count": null,
   "metadata": {},
   "outputs": [],
   "source": [
    "c//d"
   ]
  },
  {
   "cell_type": "markdown",
   "metadata": {},
   "source": [
    "### Functions\n",
    "\n",
    "Functions allow you to separate and re-use a piece of code."
   ]
  },
  {
   "cell_type": "code",
   "execution_count": null,
   "metadata": {},
   "outputs": [],
   "source": [
    "def my_function(arg1, arg2, arg3=True):\n",
    "    result = arg1 + arg2\n",
    "    if arg3:\n",
    "        result = result * 2\n",
    "    return result"
   ]
  },
  {
   "cell_type": "markdown",
   "metadata": {},
   "source": [
    "### Loops\n",
    "\n",
    "Using _for_-loops allow you to run tasks repeatedly on a data sequence. "
   ]
  },
  {
   "cell_type": "code",
   "execution_count": null,
   "metadata": {
    "collapsed": false
   },
   "outputs": [],
   "source": [
    "# Example 1\n",
    "for letter in \"abcde\":\n",
    "    print letter"
   ]
  },
  {
   "cell_type": "code",
   "execution_count": null,
   "metadata": {
    "collapsed": false
   },
   "outputs": [],
   "source": [
    "# Example 2\n",
    "for h_i in h:\n",
    "    print h_i"
   ]
  },
  {
   "cell_type": "code",
   "execution_count": null,
   "metadata": {
    "collapsed": false
   },
   "outputs": [],
   "source": [
    "# Example 3\n",
    "for i in range(len(h)):\n",
    "    print i, h[i]"
   ]
  },
  {
   "cell_type": "code",
   "execution_count": null,
   "metadata": {
    "collapsed": false
   },
   "outputs": [],
   "source": [
    "# Example 4\n",
    "for key in l.keys():\n",
    "    print key, l[key]"
   ]
  },
  {
   "cell_type": "markdown",
   "metadata": {},
   "source": [
    "### Classes\n",
    "\n",
    "Class definitions are the core of the concept of object oriented programming. Classes allow you to link functions and data that belong together in objects. Classes are templates for the creation of objects (or class instances). Objects have attributes (i.e. variables/data) and methods (i.e. functions)."
   ]
  },
  {
   "cell_type": "code",
   "execution_count": null,
   "metadata": {},
   "outputs": [],
   "source": [
    "pi = 3.1416\n",
    "class Circle:\n",
    "    def __init__(self, radius):\n",
    "        self.radius = radius\n",
    "    def area(self):\n",
    "        return 3.1416*(self.radius)**2\n",
    "    def diameter(self):\n",
    "        return self.radius*2\n",
    "    def circumference(self):\n",
    "        return 2*pi*self.radius\n",
    "\n",
    "C = Circle(2.)\n",
    "print(f\"The circle has an area of {C.area()}\")"
   ]
  },
  {
   "cell_type": "markdown",
   "metadata": {},
   "source": [
    "### *1.2 TASKS*\n",
    "\n",
    "1. Define a string variable that defines the peptide sequence of human Ubiquitin-1\n",
    "2. Write a program that counts the number of alanines in the sequence\n",
    "3. Write a program that creates a new sequence in which all alanines are replaced by cysteines.\n",
    "4. Copy your code from 2. and 3. into two new cells and re-organise the code into functions. \n",
    "5. Copy your functions into a new cell and make a class definition Sequence for it."
   ]
  },
  {
   "cell_type": "code",
   "execution_count": null,
   "metadata": {
    "collapsed": true
   },
   "outputs": [],
   "source": [
    "# TYPE YOUR CODE HERE\n",
    "ubi = \"MQIFVKTLTGKTITLEVEPSDTIENVKAKIQDKEGIPPDQQRLIFAGKQLEDGRTLSDYNIQKESTLHLVLRLRGG\"\n",
    "\n",
    "# Find number of Alanines in Ubitquitin (Sequence from Wikipedia might be wrong)\n",
    "num_ala = 0\n",
    "for charact in ubi:\n",
    "    if charact == \"A\":\n",
    "        num_ala += 1\n",
    "print(\"Number of Alanines is: \", num_ala)\n",
    "\n",
    "# Replaces all alanines by cysteines\n",
    "new_peptide = ubi.replace(\"A\", \"C\")\n",
    "print(\"The new sequence is \", new_peptide)"
   ]
  },
  {
   "cell_type": "code",
   "execution_count": null,
   "metadata": {},
   "outputs": [],
   "source": [
    "# Find number of an AA in a Sequence\n",
    "def CountAminoAcid(aminoacid, peptide):\n",
    "    num_am = 0\n",
    "    for charact in peptide:\n",
    "        if charact == aminoacid:\n",
    "            num_am += 1\n",
    "    print(\"Number of \",aminoacid, \" is: \", num_am)\n",
    "    return num_am\n",
    "\n",
    "# Replaces a specified Amionacid (str) by another one(str)\n",
    "def replaceAminoAcid(oldpeptide, AcidToReplace, AcidToAdd):\n",
    "    new_peptide = oldpeptide.replace(\"A\", \"C\")\n",
    "    print(\"The new sequence is \", new_peptide)\n",
    "    return new_peptide\n",
    "\n",
    "ubi = \"MQIFVKTLTGKTITLEVEPSDTIENVKAKIQDKEGIPPDQQRLIFAGKQLEDGRTLSDYNIQKESTLHLVLRLRGG\"\n",
    "CountAminoAcid(\"A\", ubi)\n",
    "replaceAminoAcid(ubi, \"A\", \"C\")"
   ]
  },
  {
   "cell_type": "code",
   "execution_count": null,
   "metadata": {},
   "outputs": [],
   "source": [
    "class PeptideHandling:\n",
    "    # Find number of an AA in a Sequence\n",
    "    def CountAminoAcid(aminoacid, peptide):\n",
    "        num_am = 0\n",
    "        for charact in peptide:\n",
    "            if charact == aminoacid:\n",
    "                num_am += 1\n",
    "        print(\"Number of \",aminoacid, \" is: \", num_am)\n",
    "        return num_am\n",
    "\n",
    "    # Replaces a specified Amionacid (str) by another one(str)\n",
    "    def replaceAminoAcid(oldpeptide, AcidToReplace, AcidToAdd):\n",
    "        new_peptide = oldpeptide.replace(\"A\", \"C\")\n",
    "        print(\"The new sequence is \", new_peptide)\n",
    "        return new_peptide\n",
    "#    ubi = \"MQIFVKTLTGKTITLEVEPSDTIENVKAKIQDKEGIPPDQQRLIFAGKQLEDGRTLSDYNIQKESTLHLVLRLRGG\"\n",
    "#    CountAminoAcid(\"A\", ubi)\n",
    "#    replaceAminoAcid(ubi, \"A\", \"C\")"
   ]
  },
  {
   "cell_type": "markdown",
   "metadata": {},
   "source": [
    "## 1.3 Using external packages\n",
    "\n",
    "There is a huge amount of useful Python packages. Many packages are already shipped with your Python installation, others you need to install for example with the command line package manager _pip_.\n",
    "\n",
    "Before using them in your code you must \"_import_\" the package."
   ]
  },
  {
   "cell_type": "code",
   "execution_count": null,
   "metadata": {
    "collapsed": true
   },
   "outputs": [],
   "source": [
    "# We import the standard \"time\" package\n",
    "import time"
   ]
  },
  {
   "cell_type": "markdown",
   "metadata": {},
   "source": [
    "Look up the help message for the function _time.time(...)_ by executing"
   ]
  },
  {
   "cell_type": "code",
   "execution_count": 15,
   "metadata": {
    "collapsed": false
   },
   "outputs": [
    {
     "name": "stdout",
     "output_type": "stream",
     "text": [
      "Help on built-in function time in module time:\n",
      "\n",
      "time(...)\n",
      "    time() -> floating point number\n",
      "    \n",
      "    Return the current time in seconds since the Epoch.\n",
      "    Fractions of a second may be present if the system clock provides them.\n",
      "\n",
      "Help on built-in function sleep in module time:\n",
      "\n",
      "sleep(...)\n",
      "    sleep(seconds)\n",
      "    \n",
      "    Delay execution for a given number of seconds.  The argument may be\n",
      "    a floating point number for subsecond precision.\n",
      "\n"
     ]
    }
   ],
   "source": [
    "help(time.time)\n",
    "help(time.sleep)"
   ]
  },
  {
   "cell_type": "code",
   "execution_count": 16,
   "metadata": {},
   "outputs": [
    {
     "name": "stdout",
     "output_type": "stream",
     "text": [
      "This took 1.0002329349517822 seconds.\n"
     ]
    }
   ],
   "source": [
    "t1 = time.time()\n",
    "time.sleep(1.)\n",
    "t2 = time.time()\n",
    "print(f\"This took {t2-t1} seconds.\")"
   ]
  },
  {
   "cell_type": "markdown",
   "metadata": {},
   "source": [
    "### *1.3 TASKS*\n",
    "\n",
    "Use _time.time(...)_ and the _pandas.read_excel(...)_ to measure the time that passes to open one of your excel sheets with the Pandas package."
   ]
  },
  {
   "cell_type": "code",
   "execution_count": 27,
   "metadata": {
    "collapsed": true
   },
   "outputs": [
    {
     "name": "stdout",
     "output_type": "stream",
     "text": [
      "It takes  0.015624284744262695  seconds\n"
     ]
    }
   ],
   "source": [
    "# TYPE YOUR CODE HERE\n",
    "import pandas as pd\n",
    "#help(pd.read_excel)\n",
    "t1 = time.time()\n",
    "dataframe = pd.read_csv(\"C:/Users/fremdling.NBKK041/Documents/Dokumente-aufbauend-auf-kernix/Datenanalyse/python-panda-tutorials/newcsv4.csv\")\n",
    "t2 = time.time()\n",
    "\n",
    "print(\"It takes \", (t2 - t1), \" seconds\")\n"
   ]
  }
 ],
 "metadata": {
  "kernelspec": {
   "display_name": "Python 3",
   "language": "python",
   "name": "python3"
  },
  "language_info": {
   "codemirror_mode": {
    "name": "ipython",
    "version": 3
   },
   "file_extension": ".py",
   "mimetype": "text/x-python",
   "name": "python",
   "nbconvert_exporter": "python",
   "pygments_lexer": "ipython3",
   "version": "3.7.0"
  }
 },
 "nbformat": 4,
 "nbformat_minor": 2
}
