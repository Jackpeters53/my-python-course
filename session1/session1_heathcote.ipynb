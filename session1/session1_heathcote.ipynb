{
 "cells": [
  {
   "cell_type": "markdown",
   "metadata": {},
   "source": [
    "Author: **David Heathcote**"
   ]
  },
  {
   "cell_type": "markdown",
   "metadata": {},
   "source": [
    "# 1. First steps with *Python* on *Jupyter*"
   ]
  },
  {
   "cell_type": "markdown",
   "metadata": {},
   "source": [
    "### Goals\n",
    "\n",
    "\n",
    "- learn usage of *Jupyther Lab* notebooks\n",
    "- learn basics of the *Python* syntax"
   ]
  },
  {
   "cell_type": "markdown",
   "metadata": {},
   "source": [
    "Recommended resource: https://www.kaggle.com"
   ]
  },
  {
   "cell_type": "markdown",
   "metadata": {},
   "source": [
    "## 1.1 Usage of ```Jupyter Lab```\n",
    "\n",
    "- Notebooks are made of a sequence of cells\n",
    "- Cells can contain different content such as Python code or Markdown ([Markdown basics](https://www.markdownguide.org/basic-syntax))\n",
    "- You can change the cell type in the toolbar\n",
    "- To execute a cell press \"Shift+Return\"\n",
    "- The result of the last line will be printed below the cell (this behavior can be disabled by adding a semicolon to the end of the last line)\n",
    "- Use the tool bar to add, delete, copy, or insert cells\n",
    "\n",
    "### *1.1 TASK*\n",
    "\n",
    "1. Edit the first line of this notebook and enter your own name.\n",
    "2. Python was named for the British comedy troupe Monty Python, so why not make our first Python program an homage to their famous Spam skit? Just for fun, try reading over the code below and predicting together with your neighbor what it's going to do when run. (If you have no idea, that's fine!)\n",
    "Then execute the cell to see the results of our little program."
   ]
  },
  {
   "cell_type": "code",
   "execution_count": null,
   "metadata": {},
   "outputs": [],
   "source": [
    "spam_amount = 0\n",
    "print(spam_amount)\n",
    "\n",
    "# Ordering Spam, egg, Spam, Spam, bacon and Spam (4 more servings of Spam)\n",
    "spam_amount = spam_amount + 4\n",
    "\n",
    "if spam_amount > 0:\n",
    "    print(\"But I don't want ANY spam!\")\n",
    "\n",
    "viking_song = \"Spam \" * spam_amount\n",
    "print(viking_song)"
   ]
  },
  {
   "cell_type": "markdown",
   "metadata": {},
   "source": [
    "## 1.2 Python\n",
    "\n",
    "A variable is something that holds a value that may change. In simplest terms, a variable is just a box that you can put stuff in. You can use variables to store all kinds of stuff. For example the integer number 123456:"
   ]
  },
  {
   "cell_type": "code",
   "execution_count": null,
   "metadata": {
    "collapsed": true
   },
   "outputs": [],
   "source": [
    "variable_0 = 123456"
   ]
  },
  {
   "cell_type": "markdown",
   "metadata": {},
   "source": [
    "#### Data types / objects\n",
    "\n",
    "A selection of frequently used Python data types / objects is given here:\n",
    "\n",
    "|Data type   | Examples                                                 |\n",
    "|------------|----------------------------------------------------------|\n",
    "|```bool```  |either ```True``` or ```False```                          |\n",
    "|```int```   |1, 6, -1, 0, 3244, ...                                    |\n",
    "|```float``` |3.14, -43535.345, 0.0, ...                                |\n",
    "|```str```   |\"Hello world!\", \"nothing\", ...                            |\n",
    "|```tuple``` |(1,2), (1231.32, ```True```, \"Hello world!\", None)...     |\n",
    "|```list```  |[```True```, 1, 3.14, \"Hello!\", [1,2,34]], ...            |\n",
    "|```dict```  |{\"some key\": 1.24233, \"another key\": \"anything\"}, ...     |\n",
    "\n",
    "*Examples:*"
   ]
  },
  {
   "cell_type": "code",
   "execution_count": null,
   "metadata": {},
   "outputs": [],
   "source": [
    "# bool \n",
    "a = True\n",
    "b = False"
   ]
  },
  {
   "cell_type": "code",
   "execution_count": null,
   "metadata": {
    "collapsed": true
   },
   "outputs": [],
   "source": [
    "# int\n",
    "c = -2\n",
    "d = 3"
   ]
  },
  {
   "cell_type": "code",
   "execution_count": null,
   "metadata": {
    "collapsed": true
   },
   "outputs": [],
   "source": [
    "# float\n",
    "e = 3.1\n",
    "f = -2342.4324"
   ]
  },
  {
   "cell_type": "code",
   "execution_count": null,
   "metadata": {
    "collapsed": true
   },
   "outputs": [],
   "source": [
    "# str\n",
    "g = \"Hello!\""
   ]
  },
  {
   "cell_type": "code",
   "execution_count": null,
   "metadata": {
    "collapsed": true
   },
   "outputs": [],
   "source": [
    "# list\n",
    "h = [1,5,23,-1]\n",
    "j = [a,b,c,d,e,f,g,h,\"I can put anything into a list! :)\"]\n",
    "k = range(10)"
   ]
  },
  {
   "cell_type": "code",
   "execution_count": null,
   "metadata": {
    "collapsed": true
   },
   "outputs": [],
   "source": [
    "# dict\n",
    "l = {\"key1\": \"any content\", \"key2\": 13, \"key1000\": [1,4,6]}"
   ]
  },
  {
   "cell_type": "markdown",
   "metadata": {},
   "source": [
    "#### Operators\n",
    "\n",
    "- Comparisons: \"==\", \">\", \"<\", \">=\", \"<=\", ...\n",
    "- Arithmetics: \"+\", \"-\", \"*\", \"/\", \"//\", ..."
   ]
  },
  {
   "cell_type": "code",
   "execution_count": null,
   "metadata": {},
   "outputs": [],
   "source": [
    "# Comparisons\n",
    "a == b"
   ]
  },
  {
   "cell_type": "code",
   "execution_count": null,
   "metadata": {
    "collapsed": true
   },
   "outputs": [],
   "source": [
    "b == False"
   ]
  },
  {
   "cell_type": "code",
   "execution_count": null,
   "metadata": {
    "collapsed": true
   },
   "outputs": [],
   "source": [
    "c > d"
   ]
  },
  {
   "cell_type": "code",
   "execution_count": null,
   "metadata": {
    "collapsed": true
   },
   "outputs": [],
   "source": [
    "c >= c"
   ]
  },
  {
   "cell_type": "code",
   "execution_count": null,
   "metadata": {
    "collapsed": true
   },
   "outputs": [],
   "source": [
    "# If statements\n",
    "if g == \"Hello!\":\n",
    "    print(\"'g' equals the string 'Hello!'\")\n",
    "else:\n",
    "    print(\"'g' does not equal the string 'Hello!'.\")"
   ]
  },
  {
   "cell_type": "code",
   "execution_count": null,
   "metadata": {},
   "outputs": [],
   "source": [
    "# Arithmetics\n",
    "e + f"
   ]
  },
  {
   "cell_type": "code",
   "execution_count": null,
   "metadata": {
    "collapsed": true
   },
   "outputs": [],
   "source": [
    "h + j"
   ]
  },
  {
   "cell_type": "code",
   "execution_count": null,
   "metadata": {},
   "outputs": [],
   "source": [
    "c/d"
   ]
  },
  {
   "cell_type": "code",
   "execution_count": null,
   "metadata": {},
   "outputs": [],
   "source": [
    "c//d"
   ]
  },
  {
   "cell_type": "markdown",
   "metadata": {},
   "source": [
    "### Functions\n",
    "\n",
    "Functions allow you to separate and re-use a piece of code."
   ]
  },
  {
   "cell_type": "code",
   "execution_count": null,
   "metadata": {},
   "outputs": [],
   "source": [
    "def my_function(arg1, arg2, arg3=True):\n",
    "    result = arg1 + arg2\n",
    "    if arg3:\n",
    "        result = result * 2\n",
    "    return result"
   ]
  },
  {
   "cell_type": "markdown",
   "metadata": {},
   "source": [
    "### Loops\n",
    "\n",
    "Using _for_-loops allow you to run tasks repeatedly on a data sequence. "
   ]
  },
  {
   "cell_type": "code",
   "execution_count": null,
   "metadata": {},
   "outputs": [],
   "source": [
    "# Example 1\n",
    "for letter in \"abcde\":\n",
    "    print letter"
   ]
  },
  {
   "cell_type": "code",
   "execution_count": null,
   "metadata": {},
   "outputs": [],
   "source": [
    "# Example 2\n",
    "for h_i in h:\n",
    "    print h_i"
   ]
  },
  {
   "cell_type": "code",
   "execution_count": null,
   "metadata": {},
   "outputs": [],
   "source": [
    "# Example 3\n",
    "for i in range(len(h)):\n",
    "    print i, h[i]"
   ]
  },
  {
   "cell_type": "code",
   "execution_count": null,
   "metadata": {},
   "outputs": [],
   "source": [
    "# Example 4\n",
    "for key in l.keys():\n",
    "    print key, l[key]"
   ]
  },
  {
   "cell_type": "markdown",
   "metadata": {},
   "source": [
    "### Classes\n",
    "\n",
    "Class definitions are the core of the concept of object oriented programming. Classes allow you to link functions and data that belong together in objects. Classes are templates for the creation of objects (or class instances). Objects have attributes (i.e. variables/data) and methods (i.e. functions)."
   ]
  },
  {
   "cell_type": "code",
   "execution_count": null,
   "metadata": {},
   "outputs": [],
   "source": [
    "pi = 3.1416\n",
    "class Circle:\n",
    "    def __init__(self, radius):\n",
    "        self.radius = radius\n",
    "    def area(self):\n",
    "        return 3.1416*(self.radius)**2\n",
    "    def diameter(self):\n",
    "        return self.radius*2\n",
    "    def circumference(self):\n",
    "        return 2*pi*self.radius\n",
    "\n",
    "C = Circle(2.)\n",
    "print(f\"The circle has an area of {C.area()}\")"
   ]
  },
  {
   "cell_type": "markdown",
   "metadata": {},
   "source": [
    "### *1.2 TASKS*\n",
    "\n",
    "1. Define a string variable that defines the peptide sequence of human Ubiquitin-1\n",
    "2. Write a program that counts the number of alanines in the sequence\n",
    "3. Write a program that creates a new sequence in which all alanines are replaced by cysteines.\n",
    "4. Copy your code from 2. and 3. into two new cells and re-organise the code into functions. \n",
    "5. Copy your functions into a new cell and make a class definition Sequence for it."
   ]
  },
  {
   "cell_type": "code",
   "execution_count": 1,
   "metadata": {},
   "outputs": [],
   "source": [
    "cur_sequence = 'MQIFVKTLTGKTITLEVEPSDTIENVKAKIQDKEGIPPDQQRLIFAGKQLEDGRTLSDYNIQKESTLHLVLRLRGG'"
   ]
  },
  {
   "cell_type": "code",
   "execution_count": 2,
   "metadata": {},
   "outputs": [
    {
     "name": "stdout",
     "output_type": "stream",
     "text": [
      "A count = 2\n",
      "New sequence with A replaced with C\n",
      "MQIFVKTLTGKTITLEVEPSDTIENVKCKIQDKEGIPPDQQRLIFCGKQLEDGRTLSDYNIQKESTLHLVLRLRGG\n"
     ]
    }
   ],
   "source": [
    "# Method 1 - the downright simple\n",
    "class process_sequence_method_one():\n",
    "    \n",
    "    def __init__(self, sequence):\n",
    "        #Assign the passed sequence to the instance\n",
    "        self.sequence = sequence\n",
    "    \n",
    "    def count_a(self):\n",
    "        return self.sequence.count('A')\n",
    "    \n",
    "    def replace_a_with_c(self):\n",
    "        return self.sequence.replace('A', 'C')\n",
    "    \n",
    "instance_of_method_one = process_sequence_method_one(cur_sequence)\n",
    "print(f'A count = {instance_of_method_one.count_a()}')\n",
    "print(f'New sequence with A replaced with C\\n{instance_of_method_one.replace_a_with_c()}')"
   ]
  },
  {
   "cell_type": "code",
   "execution_count": 3,
   "metadata": {},
   "outputs": [
    {
     "name": "stdout",
     "output_type": "stream",
     "text": [
      "A count = 2\n",
      "New sequence with A replaced with C\n",
      "MQIFVKTLTGKTITLEVEPSDTIENVKCKIQDKEGIPPDQQRLIFCGKQLEDGRTLSDYNIQKESTLHLVLRLRGG\n"
     ]
    }
   ],
   "source": [
    "# Method 2 - string based\n",
    "class process_sequence_method_one():\n",
    "    \n",
    "    def __init__(self, sequence):\n",
    "        #Assign the passed sequence to the instance\n",
    "        self.sequence = sequence\n",
    "    \n",
    "    def count_a(self):\n",
    "        #Define counter variable\n",
    "        count = 0\n",
    "        \n",
    "        #Loop through each element, increment count if A\n",
    "        for element in self.sequence:\n",
    "            if element == 'A':\n",
    "                count += 1\n",
    "        return count\n",
    "    \n",
    "    def replace_a_with_c(self):\n",
    "        #Loop through each element of the sequence. Replace the element with C when A by redefining the string\n",
    "        #Define a variable to hold the new string\n",
    "        new_sequence = ''\n",
    "        \n",
    "        #Loop through each element of the sequence. When an A is found, update the new sequence\n",
    "        for i, element in enumerate(self.sequence):\n",
    "            if element == 'A':\n",
    "                new_sequence += (self.sequence[len(new_sequence):i] + 'C')\n",
    "                \n",
    "        #Make sure that the end of the sequence is added on\n",
    "        new_sequence += self.sequence[len(new_sequence):]\n",
    "        return new_sequence\n",
    "    \n",
    "instance_of_method_one = process_sequence_method_one(cur_sequence)\n",
    "print(f'A count = {instance_of_method_one.count_a()}')\n",
    "print(f'New sequence with A replaced with C\\n{instance_of_method_one.replace_a_with_c()}')"
   ]
  },
  {
   "cell_type": "code",
   "execution_count": 4,
   "metadata": {},
   "outputs": [
    {
     "name": "stdout",
     "output_type": "stream",
     "text": [
      "A count = 2\n",
      "New sequence with A replaced with C\n",
      "MQIFVKTLTGKTITLEVEPSDTIENVKCKIQDKEGIPPDQQRLIFCGKQLEDGRTLSDYNIQKESTLHLVLRLRGG\n"
     ]
    }
   ],
   "source": [
    "# Method 3 - the list method\n",
    "class process_sequence_method_one():\n",
    "    \n",
    "    def __init__(self, sequence):\n",
    "        #Assign the passed sequence to the instance after converting to a char list\n",
    "        self.sequence = [element for element in sequence]\n",
    "    \n",
    "    def count_a(self):\n",
    "        #The same as the previous method for this\n",
    "        #Define variable\n",
    "        count = 0\n",
    "    \n",
    "        #Loop through each element, increment count if A\n",
    "        for element in self.sequence:\n",
    "            if element == 'A':\n",
    "                count += 1\n",
    "        return count\n",
    "    \n",
    "    def replace_a_with_c(self):\n",
    "        #Loop through each element of the sequence. Replace the element with C when A\n",
    "        #Define the new sequence\n",
    "        new_sequence = self.sequence\n",
    "        for i, element in enumerate(self.sequence):\n",
    "            if element == 'A':\n",
    "                new_sequence[i] = 'C'\n",
    "        return ''.join(new_sequence)\n",
    "    \n",
    "instance_of_method_one = process_sequence_method_one(cur_sequence)\n",
    "print(f'A count = {instance_of_method_one.count_a()}')\n",
    "print(f'New sequence with A replaced with C\\n{instance_of_method_one.replace_a_with_c()}')"
   ]
  },
  {
   "cell_type": "code",
   "execution_count": 5,
   "metadata": {},
   "outputs": [
    {
     "name": "stdout",
     "output_type": "stream",
     "text": [
      "A count = 2\n",
      "New sequence with A replaced with C\n",
      "MQIFVKTLTGKTITLEVEPSDTIENVKCKIQDKEGIPPDQQRLIFCGKQLEDGRTLSDYNIQKESTLHLVLRLRGG\n"
     ]
    }
   ],
   "source": [
    "# Method 4 - both at once\n",
    "class process_sequence_method_one():\n",
    "    \n",
    "    def __init__(self, sequence):\n",
    "        #Assign the passed sequence to the instance\n",
    "        self.sequence = sequence\n",
    "        #Calculate the A count and the new sequence\n",
    "        self.calculate()\n",
    "    \n",
    "    def calculate(self):\n",
    "        #Split at A\n",
    "        temp = self.sequence.split('A')\n",
    "        self.count = len(temp) - 1\n",
    "        self.new_sequence = 'C'.join(temp)\n",
    "    \n",
    "    def count_a(self):\n",
    "        return self.count\n",
    "    \n",
    "    def replace_a_with_c(self):\n",
    "        return self.new_sequence\n",
    "    \n",
    "instance_of_method_one = process_sequence_method_one(cur_sequence)\n",
    "print(f'A count = {instance_of_method_one.count_a()}')\n",
    "print(f'New sequence with A replaced with C\\n{instance_of_method_one.replace_a_with_c()}')"
   ]
  },
  {
   "cell_type": "markdown",
   "metadata": {},
   "source": [
    "## 1.3 Using external packages\n",
    "\n",
    "There is a huge amount of useful Python packages. Many packages are already shipped with your Python installation, others you need to install for example with the command line package manager _pip_.\n",
    "\n",
    "Before using them in your code you must \"_import_\" the package."
   ]
  },
  {
   "cell_type": "code",
   "execution_count": null,
   "metadata": {
    "collapsed": true
   },
   "outputs": [],
   "source": [
    "# We import the standard \"time\" package\n",
    "import time"
   ]
  },
  {
   "cell_type": "markdown",
   "metadata": {},
   "source": [
    "Look up the help message for the function _time.time(...)_ by executing"
   ]
  },
  {
   "cell_type": "code",
   "execution_count": null,
   "metadata": {},
   "outputs": [],
   "source": [
    "help(time.time)"
   ]
  },
  {
   "cell_type": "code",
   "execution_count": null,
   "metadata": {},
   "outputs": [],
   "source": [
    "t1 = time.time()\n",
    "time.sleep(1.)\n",
    "t2 = time.time()\n",
    "print(f\"This took {t2-t1} seconds.\")"
   ]
  },
  {
   "cell_type": "markdown",
   "metadata": {},
   "source": [
    "### *1.3 TASKS*\n",
    "\n",
    "Use _time.time(...)_ and the _pandas.read_excel(...)_ to measure the time that passes to open one of your excel sheets with the Pandas package."
   ]
  },
  {
   "cell_type": "code",
   "execution_count": 15,
   "metadata": {},
   "outputs": [
    {
     "name": "stdout",
     "output_type": "stream",
     "text": [
      "        1  -11.213842  16.020477  Unnamed: 3       1.1  -11.213851  16.020485  \\\n",
      "0       2  -11.205111  16.018732         NaN         2  -11.205143  16.018742   \n",
      "1       3  -11.205081  16.018784         NaN         3  -11.205112  16.018795   \n",
      "2       4   -1.046416   1.255775         NaN         4   -1.046323   1.255607   \n",
      "3       5   -0.927342   1.277817         NaN         5   -0.927328   1.277727   \n",
      "4       6   -0.805148   1.224537         NaN         6   -0.805161   1.224636   \n",
      "5       7   -0.619860   0.868960         NaN         7   -0.619817   0.868998   \n",
      "6       8   -0.598844   0.931636         NaN         8   -0.598822   0.931564   \n",
      "7       9   -0.541647   1.057753         NaN         9   -0.541638   1.057397   \n",
      "8      10   -0.540197   0.971707         NaN        10   -0.540202   0.971698   \n",
      "9      11   -0.476253   1.143448         NaN        11   -0.476224   1.143494   \n",
      "10     12   -0.473048   1.245599         NaN        12   -0.473037   1.245638   \n",
      "11     13   -0.459715   1.089008         NaN        13   -0.459744   1.089069   \n",
      "12    NaN         NaN        NaN         NaN       NaN         NaN        NaN   \n",
      "13    NaN         NaN        NaN         NaN       NaN         NaN        NaN   \n",
      "14  Dummy         NaN        NaN         NaN  No Dummy         NaN        NaN   \n",
      "15    NaN         NaN        NaN         NaN       NaN         NaN        NaN   \n",
      "16    NaN         NaN        NaN         NaN       NaN    0.000009  -0.000008   \n",
      "17    NaN         NaN        NaN         NaN       NaN    0.000032  -0.000010   \n",
      "18    NaN         NaN        NaN         NaN       NaN    0.000031  -0.000011   \n",
      "19    NaN         NaN        NaN         NaN       NaN   -0.000093   0.000168   \n",
      "20    NaN         NaN        NaN         NaN       NaN   -0.000014   0.000090   \n",
      "21    NaN         NaN        NaN         NaN       NaN    0.000013  -0.000099   \n",
      "22    NaN         NaN        NaN         NaN       NaN   -0.000043  -0.000038   \n",
      "23    NaN         NaN        NaN         NaN       NaN   -0.000022   0.000072   \n",
      "24    NaN         NaN        NaN         NaN       NaN   -0.000009   0.000356   \n",
      "25    NaN         NaN        NaN         NaN       NaN    0.000005   0.000009   \n",
      "26    NaN         NaN        NaN         NaN       NaN   -0.000029  -0.000046   \n",
      "27    NaN         NaN        NaN         NaN       NaN   -0.000011  -0.000039   \n",
      "28    NaN         NaN        NaN         NaN       NaN    0.000029  -0.000061   \n",
      "29    NaN         NaN        NaN         NaN       NaN         NaN        NaN   \n",
      "30    NaN         NaN        NaN         NaN       NaN         NaN        NaN   \n",
      "31    NaN         NaN        NaN         NaN       NaN         NaN        NaN   \n",
      "32    NaN         NaN        NaN         NaN       NaN         NaN        NaN   \n",
      "33    NaN         NaN        NaN         NaN       NaN         NaN        NaN   \n",
      "34    NaN         NaN        NaN         NaN       NaN         NaN        NaN   \n",
      "35    NaN         NaN        NaN         NaN       NaN         NaN        NaN   \n",
      "36    NaN         NaN        NaN         NaN       NaN         NaN        NaN   \n",
      "37    NaN         NaN        NaN         NaN       NaN         NaN        NaN   \n",
      "38    NaN         NaN        NaN         NaN       NaN         NaN        NaN   \n",
      "39    NaN         NaN        NaN         NaN       NaN         NaN        NaN   \n",
      "40    NaN         NaN        NaN         NaN       NaN         NaN        NaN   \n",
      "41    NaN         NaN        NaN         NaN       NaN         NaN        NaN   \n",
      "42    NaN         NaN        NaN         NaN       NaN         NaN        NaN   \n",
      "43    NaN         NaN        NaN         NaN       NaN         NaN        NaN   \n",
      "44    NaN         NaN        NaN         NaN       NaN         NaN        NaN   \n",
      "45    NaN         NaN        NaN         NaN       NaN         NaN        NaN   \n",
      "46    NaN         NaN        NaN         NaN       NaN         NaN        NaN   \n",
      "47    NaN         NaN        NaN         NaN       NaN         NaN        NaN   \n",
      "48    NaN         NaN        NaN         NaN       NaN         NaN        NaN   \n",
      "49    NaN         NaN        NaN         NaN       NaN         NaN        NaN   \n",
      "50    NaN         NaN        NaN         NaN       NaN         NaN        NaN   \n",
      "51    NaN         NaN        NaN         NaN       NaN         NaN        NaN   \n",
      "52    NaN         NaN        NaN         NaN       NaN         NaN        NaN   \n",
      "53    NaN         NaN        NaN         NaN       NaN         NaN        NaN   \n",
      "54    NaN         NaN        NaN         NaN       NaN         NaN        NaN   \n",
      "55    NaN         NaN        NaN         NaN       NaN         NaN        NaN   \n",
      "56    NaN         NaN        NaN         NaN       NaN         NaN        NaN   \n",
      "\n",
      "    Unnamed: 7                 1.2    -11.213816  16.020466  Unnamed: 11  \\\n",
      "0          NaN                   2 -1.120512e+01  16.018732          NaN   \n",
      "1          NaN                   3 -1.120509e+01  16.018788          NaN   \n",
      "2          NaN                   4 -1.046409e+00   1.255802          NaN   \n",
      "3          NaN                   5 -9.273650e-01   1.277783          NaN   \n",
      "4          NaN                   6 -8.051710e-01   1.224570          NaN   \n",
      "5          NaN                   7 -6.198210e-01   0.869012          NaN   \n",
      "6          NaN                   8 -5.988700e-01   0.931653          NaN   \n",
      "7          NaN                   9 -5.416830e-01   1.057639          NaN   \n",
      "8          NaN                  10 -5.401590e-01   0.971705          NaN   \n",
      "9          NaN                  11 -4.762520e-01   1.143503          NaN   \n",
      "10         NaN                  12 -4.731280e-01   1.245593          NaN   \n",
      "11         NaN                  13 -4.596670e-01   1.089079          NaN   \n",
      "12         NaN                 NaN           NaN        NaN          NaN   \n",
      "13         NaN                 NaN           NaN        NaN          NaN   \n",
      "14         NaN  Better basis dummy           NaN        NaN          NaN   \n",
      "15         NaN                 NaN           NaN        NaN          NaN   \n",
      "16         NaN                 NaN -2.600000e-05   0.000011          NaN   \n",
      "17         NaN                 NaN  9.000000e-06   0.000000          NaN   \n",
      "18         NaN                 NaN  9.000000e-06  -0.000004          NaN   \n",
      "19         NaN                 NaN -7.000000e-06  -0.000027          NaN   \n",
      "20         NaN                 NaN  2.300000e-05   0.000034          NaN   \n",
      "21         NaN                 NaN  2.300000e-05  -0.000033          NaN   \n",
      "22         NaN                 NaN -3.900000e-05  -0.000052          NaN   \n",
      "23         NaN                 NaN  2.600000e-05  -0.000017          NaN   \n",
      "24         NaN                 NaN  3.600000e-05   0.000114          NaN   \n",
      "25         NaN                 NaN -3.800000e-05   0.000002          NaN   \n",
      "26         NaN                 NaN -1.000000e-06  -0.000055          NaN   \n",
      "27         NaN                 NaN  8.000000e-05   0.000006          NaN   \n",
      "28         NaN                 NaN -4.800000e-05  -0.000071          NaN   \n",
      "29         NaN                 NaN           NaN        NaN          NaN   \n",
      "30         NaN                 NaN -3.500000e-05   0.000019          NaN   \n",
      "31         NaN                 NaN -2.300000e-05   0.000010          NaN   \n",
      "32         NaN                 NaN -2.200000e-05   0.000007          NaN   \n",
      "33         NaN                 NaN  8.600000e-05  -0.000195          NaN   \n",
      "34         NaN                 NaN  3.700000e-05  -0.000056          NaN   \n",
      "35         NaN                 NaN  1.000000e-05   0.000066          NaN   \n",
      "36         NaN                 NaN  4.000000e-06  -0.000014          NaN   \n",
      "37         NaN                 NaN  4.800000e-05  -0.000089          NaN   \n",
      "38         NaN                 NaN  4.500000e-05  -0.000242          NaN   \n",
      "39         NaN                 NaN -4.300000e-05  -0.000007          NaN   \n",
      "40         NaN                 NaN  2.800000e-05  -0.000009          NaN   \n",
      "41         NaN                 NaN  9.100000e-05   0.000045          NaN   \n",
      "42         NaN                 NaN -7.700000e-05  -0.000010          NaN   \n",
      "43         NaN                 NaN           NaN        NaN          NaN   \n",
      "44         NaN                 NaN           NaN        NaN          NaN   \n",
      "45         NaN                 NaN           NaN        NaN          NaN   \n",
      "46         NaN                 NaN           NaN        NaN          NaN   \n",
      "47         NaN                 NaN           NaN        NaN          NaN   \n",
      "48         NaN                 NaN           NaN        NaN          NaN   \n",
      "49         NaN                 NaN           NaN        NaN          NaN   \n",
      "50         NaN                 NaN           NaN        NaN          NaN   \n",
      "51         NaN                 NaN           NaN        NaN          NaN   \n",
      "52         NaN                 NaN           NaN        NaN          NaN   \n",
      "53         NaN                 NaN           NaN        NaN          NaN   \n",
      "54         NaN                 NaN           NaN        NaN          NaN   \n",
      "55         NaN                 NaN           NaN        NaN          NaN   \n",
      "56         NaN                 NaN           NaN        NaN          NaN   \n",
      "\n",
      "                      1.3  -11.21384     16.020474  \n",
      "0                       2 -11.205125  1.601873e+01  \n",
      "1                       3 -11.205094  1.601879e+01  \n",
      "2                       4  -1.046381  1.255744e+00  \n",
      "3                       5  -0.927346  1.277761e+00  \n",
      "4                       6  -0.805190  1.224571e+00  \n",
      "5                       7  -0.619814  8.690170e-01  \n",
      "6                       8  -0.598846  9.316400e-01  \n",
      "7                       9  -0.541657  1.057631e+00  \n",
      "8                      10  -0.540160  9.717060e-01  \n",
      "9                      11  -0.476270  1.143460e+00  \n",
      "10                     12  -0.473084  1.245578e+00  \n",
      "11                     13  -0.459704  1.089052e+00  \n",
      "12                    NaN        NaN           NaN  \n",
      "13                    NaN        NaN           NaN  \n",
      "14  Better basis no dummy        NaN           NaN  \n",
      "15                    NaN        NaN           NaN  \n",
      "16                    NaN  -0.000002  3.000000e-06  \n",
      "17                    NaN   0.000014 -3.000000e-06  \n",
      "18                    NaN   0.000013 -5.000000e-06  \n",
      "19                    NaN  -0.000035  3.100000e-05  \n",
      "20                    NaN   0.000004  5.600000e-05  \n",
      "21                    NaN   0.000042 -3.400000e-05  \n",
      "22                    NaN  -0.000046 -5.700000e-05  \n",
      "23                    NaN   0.000002 -4.000000e-06  \n",
      "24                    NaN   0.000010  1.220000e-04  \n",
      "25                    NaN  -0.000037  1.000000e-06  \n",
      "26                    NaN   0.000017 -1.200000e-05  \n",
      "27                    NaN   0.000036  2.100000e-05  \n",
      "28                    NaN  -0.000011 -4.400000e-05  \n",
      "29                    NaN        NaN           NaN  \n",
      "30                    NaN  -0.000011  1.100000e-05  \n",
      "31                    NaN  -0.000018  7.000000e-06  \n",
      "32                    NaN  -0.000018  6.000000e-06  \n",
      "33                    NaN   0.000058 -1.370000e-04  \n",
      "34                    NaN   0.000018 -3.400000e-05  \n",
      "35                    NaN   0.000029  6.500000e-05  \n",
      "36                    NaN  -0.000003 -1.900000e-05  \n",
      "37                    NaN   0.000024 -7.600000e-05  \n",
      "38                    NaN   0.000019 -2.340000e-04  \n",
      "39                    NaN  -0.000042 -8.000000e-06  \n",
      "40                    NaN   0.000046  3.400000e-05  \n",
      "41                    NaN   0.000047  6.000000e-05  \n",
      "42                    NaN  -0.000040  1.700000e-05  \n",
      "43                    NaN        NaN           NaN  \n",
      "44                    NaN   0.000024 -8.000000e-06  \n",
      "45                    NaN   0.000005 -3.000000e-06  \n",
      "46                    NaN   0.000004 -1.000000e-06  \n",
      "47                    NaN  -0.000028  5.800000e-05  \n",
      "48                    NaN  -0.000019  2.200000e-05  \n",
      "49                    NaN   0.000019 -1.000000e-06  \n",
      "50                    NaN  -0.000007 -5.000000e-06  \n",
      "51                    NaN  -0.000024  1.300000e-05  \n",
      "52                    NaN  -0.000026  8.000000e-06  \n",
      "53                    NaN   0.000001 -1.000000e-06  \n",
      "54                    NaN   0.000018  4.300000e-05  \n",
      "55                    NaN  -0.000044  1.500000e-05  \n",
      "56                    NaN   0.000037  2.700000e-05  \n",
      "Time elapsed = 0.18101811408996582s\n"
     ]
    }
   ],
   "source": [
    "from time import time\n",
    "import pandas as pd\n",
    "\n",
    "t1 = time()\n",
    "print(pd.read_excel(r'C:\\Users\\cvgroup\\Documents\\David Heathcote\\BEB Calculations\\Comparison for Propane.xlsx'))\n",
    "t2 = time()\n",
    "print(\"Time elapsed = %ss\" % (t2-t1))"
   ]
  },
  {
   "cell_type": "code",
   "execution_count": null,
   "metadata": {},
   "outputs": [],
   "source": []
  }
 ],
 "metadata": {
  "kernelspec": {
   "display_name": "Python 3",
   "language": "python",
   "name": "python3"
  },
  "language_info": {
   "codemirror_mode": {
    "name": "ipython",
    "version": 3
   },
   "file_extension": ".py",
   "mimetype": "text/x-python",
   "name": "python",
   "nbconvert_exporter": "python",
   "pygments_lexer": "ipython3",
   "version": "3.6.5"
  }
 },
 "nbformat": 4,
 "nbformat_minor": 2
}
